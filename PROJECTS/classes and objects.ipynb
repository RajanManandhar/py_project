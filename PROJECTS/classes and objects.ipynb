{
 "cells": [
  {
   "cell_type": "code",
   "execution_count": null,
   "metadata": {},
   "outputs": [],
   "source": [
    "# class robot:\n",
    "#     def introduce_self(self):\n",
    "#         print(\"my name is \" + self.name)  # this kl"
   ]
  },
  {
   "cell_type": "code",
   "execution_count": null,
   "metadata": {},
   "outputs": [],
   "source": [
    "# r1 = robot()\n",
    "# r1.name = \"tom\"\n",
    "# r1.color = \"red\"\n",
    "# r1.weight = 30\n",
    "\n",
    "# r2 = robot()\n",
    "# r2.name = \"jerry\"\n",
    "# r2.color = \"yellow\"\n",
    "# r2.weight = 20\n"
   ]
  },
  {
   "cell_type": "code",
   "execution_count": null,
   "metadata": {},
   "outputs": [],
   "source": [
    "# r1.introduce_self()\n",
    "# r2.introduce_self()"
   ]
  },
  {
   "cell_type": "code",
   "execution_count": 14,
   "metadata": {},
   "outputs": [],
   "source": [
    "# custom constructor for the same problem\n",
    "class rajan():\n",
    "    def __init__(self, name, color, weight):\n",
    "        self.name = name\n",
    "        self.color = color\n",
    "        self.weight = weight\n",
    "        \n",
    "    def content(self):\n",
    "        print ( \"my name is \" + self.name)\n",
    "        print (\"my color is \" + self.color)\n",
    "        "
   ]
  },
  {
   "cell_type": "code",
   "execution_count": 15,
   "metadata": {},
   "outputs": [
    {
     "name": "stdout",
     "output_type": "stream",
     "text": [
      "my name is first name\n",
      "my color is skin\n",
      "my name is name\n",
      "my color is red\n"
     ]
    }
   ],
   "source": [
    "r3 = rajan(\"first name\", \"skin\", 55)\n",
    "r4 = rajan (\"name\", \"red\", 44)\n",
    "r3.content()\n",
    "r4.content()\n"
   ]
  },
  {
   "cell_type": "code",
   "execution_count": 32,
   "metadata": {},
   "outputs": [],
   "source": [
    "class info():\n",
    "    def __init__(self, first_name, last_name, address):\n",
    "        self.first_name = first_name\n",
    "        self.last_name = last_name\n",
    "        self.address = address\n",
    "        \n",
    "    def items(self):    \n",
    "        print (\"my name is \" + self.first_name + \" \"+ self.last_name)\n",
    "        print (\"i live in  \" + self.address)\n",
    "        print (\"\")\n",
    "        "
   ]
  },
  {
   "cell_type": "code",
   "execution_count": 33,
   "metadata": {},
   "outputs": [
    {
     "name": "stdout",
     "output_type": "stream",
     "text": [
      "my name is tom adison\n",
      "i live in  newyork\n",
      "\n",
      "my name is jerry trump\n",
      "i live in  white house\n",
      "\n"
     ]
    }
   ],
   "source": [
    "a1 = info(\"tom\", \"adison\", \"newyork\")\n",
    "a2 = info(\"jerry\", \"trump\", \"white house\")\n",
    "a1.items()\n",
    "a2.items()"
   ]
  },
  {
   "cell_type": "code",
   "execution_count": 40,
   "metadata": {},
   "outputs": [],
   "source": [
    "class rubic_cubes:\n",
    "    def __init__(self, side, color, shape):\n",
    "            self.side = side\n",
    "            self.color = color\n",
    "            self.shape = shape\n",
    "    def details(self):\n",
    "        print (\"there are \" +self.side + \" \" + \"sides in an rubic cudes\")\n",
    "        print (\"it has \"+ self.color + \"  different colours in each side\")\n",
    "        print (\"the rubic cube is  \"+ self.shape + \"  in shape\")\n",
    "        print (\" \")\n",
    "        "
   ]
  },
  {
   "cell_type": "code",
   "execution_count": 41,
   "metadata": {},
   "outputs": [
    {
     "name": "stdout",
     "output_type": "stream",
     "text": [
      "there are six sides in an rubic cudes\n",
      "it has  SIX  different colours in each side\n",
      "the rubic cube is  cubical  in shape\n",
      " \n",
      "there are three sides in an rubic cudes\n",
      "it has three  different colours in each side\n",
      "the rubic cube is  pyramidal  in shape\n",
      " \n"
     ]
    }
   ],
   "source": [
    "s1 = rubic_cubes(\"six\", \" SIX\", \"cubical\")\n",
    "s2 = rubic_cubes (\"three\", \"three\",\"pyramidal\")\n",
    "s1.details()\n",
    "s2.details()"
   ]
  },
  {
   "cell_type": "code",
   "execution_count": null,
   "metadata": {},
   "outputs": [],
   "source": []
  },
  {
   "cell_type": "code",
   "execution_count": 55,
   "metadata": {},
   "outputs": [],
   "source": [
    "class drinks:\n",
    "    def __init__(self, soft_drinks, hard_drinks):\n",
    "        self.soft_drinks = soft_drinks\n",
    "        self.hard_drinks= hard_drinks\n",
    "    def types(self):\n",
    "        print (self.soft_drinks+ \" is a soft drink and \" + self.hard_drinks + \"is a hard drink\")    \n",
    "        print (\"\")"
   ]
  },
  {
   "cell_type": "code",
   "execution_count": 58,
   "metadata": {},
   "outputs": [
    {
     "name": "stdout",
     "output_type": "stream",
     "text": [
      "fanta is a soft drink and wineis a hard drink\n",
      "\n",
      "coke is a soft drink and beeris a hard drink\n",
      "\n"
     ]
    }
   ],
   "source": [
    "s1= drinks(\"fanta\", \"wine\")\n",
    "s2 = drinks (\"coke\", \"beer\")\n",
    "s1.types()\n",
    "\n",
    "s2.types()"
   ]
  },
  {
   "cell_type": "code",
   "execution_count": null,
   "metadata": {},
   "outputs": [],
   "source": []
  }
 ],
 "metadata": {
  "kernelspec": {
   "display_name": "Python 3",
   "language": "python",
   "name": "python3"
  },
  "language_info": {
   "codemirror_mode": {
    "name": "ipython",
    "version": 3
   },
   "file_extension": ".py",
   "mimetype": "text/x-python",
   "name": "python",
   "nbconvert_exporter": "python",
   "pygments_lexer": "ipython3",
   "version": "3.7.3"
  }
 },
 "nbformat": 4,
 "nbformat_minor": 2
}
