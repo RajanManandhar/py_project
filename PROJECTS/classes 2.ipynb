{
 "cells": [
  {
   "cell_type": "code",
   "execution_count": 11,
   "metadata": {},
   "outputs": [],
   "source": [
    "class Robot:\n",
    "    def __init__(self, name, color, weight):\n",
    "        self.name = name\n",
    "        self.color = color\n",
    "        self.weight = weight\n",
    "        \n",
    "    def result(self):\n",
    "        print(\"the name of robot is \"+ self.name )\n",
    "        print(\"the robot has color\" + self.color)\n",
    "        print(\"the weight of robot is \" + self.weight )\n",
    "        print(\"\")\n",
    "\n",
    "        "
   ]
  },
  {
   "cell_type": "code",
   "execution_count": 12,
   "metadata": {},
   "outputs": [
    {
     "name": "stdout",
     "output_type": "stream",
     "text": [
      "the name of robot is chitti\n",
      "the robot has colorwhite\n",
      "the weight of robot is thirty\n",
      "\n"
     ]
    }
   ],
   "source": [
    "r1 = Robot(\"chitti\", \"white\", \"thirty\" )\n",
    "r1.result()"
   ]
  },
  {
   "cell_type": "code",
   "execution_count": 22,
   "metadata": {},
   "outputs": [
    {
     "name": "stdout",
     "output_type": "stream",
     "text": [
      "the name of studen is tom\n",
      "the student studies in gradefive\n",
      "the address isnewyork\n",
      "the contact number is324624\n"
     ]
    }
   ],
   "source": [
    "class Students:\n",
    "    def __init__(self, name, grade, address, contact):\n",
    "        self.name = name\n",
    "        self.grade = grade\n",
    "        self.address = address\n",
    "        self.contact = contact\n",
    "    \n",
    "    def values(self):\n",
    "        print(\"the name of studen is \" + self.name)\n",
    "        print(\"the student studies in grade\" + self.grade)\n",
    "        print(\"the address is\"+ self.address)\n",
    "        print(\"the contact number is\" + self.contact)\n",
    "s1.Students = (\"tom\", \"five\", \"newyork\", \"324624\")\n",
    "s1.values()"
   ]
  },
  {
   "cell_type": "code",
   "execution_count": null,
   "metadata": {},
   "outputs": [],
   "source": []
  },
  {
   "cell_type": "code",
   "execution_count": 23,
   "metadata": {},
   "outputs": [],
   "source": [
    "def sleep(week, vacation):\n",
    "    if not week or vacation:\n",
    "        return True \n",
    "    else:\n",
    "        return False"
   ]
  },
  {
   "cell_type": "code",
   "execution_count": 26,
   "metadata": {},
   "outputs": [
    {
     "ename": "SyntaxError",
     "evalue": "invalid syntax (<ipython-input-26-c3fcaa3572f0>, line 6)",
     "output_type": "error",
     "traceback": [
      "\u001b[1;36m  File \u001b[1;32m\"<ipython-input-26-c3fcaa3572f0>\"\u001b[1;36m, line \u001b[1;32m6\u001b[0m\n\u001b[1;33m    a  = a+1\u001b[0m\n\u001b[1;37m       ^\u001b[0m\n\u001b[1;31mSyntaxError\u001b[0m\u001b[1;31m:\u001b[0m invalid syntax\n"
     ]
    }
   ],
   "source": [
    "def array_count9(nums):\n",
    "\n",
    "    nums=[1,2,3,9,9,9,9,9]\n",
    "    a=0\n",
    "    if nums[0: len[str(len)-1] == 9:\n",
    "        a  = a+1\n",
    "    return a"
   ]
  },
  {
   "cell_type": "code",
   "execution_count": 31,
   "metadata": {},
   "outputs": [
    {
     "name": "stdout",
     "output_type": "stream",
     "text": [
      "7\n"
     ]
    }
   ],
   "source": [
    "a = abs(--7)\n",
    "print (a)"
   ]
  },
  {
   "cell_type": "code",
   "execution_count": null,
   "metadata": {},
   "outputs": [],
   "source": []
  }
 ],
 "metadata": {
  "kernelspec": {
   "display_name": "Python 3",
   "language": "python",
   "name": "python3"
  },
  "language_info": {
   "codemirror_mode": {
    "name": "ipython",
    "version": 3
   },
   "file_extension": ".py",
   "mimetype": "text/x-python",
   "name": "python",
   "nbconvert_exporter": "python",
   "pygments_lexer": "ipython3",
   "version": "3.7.3"
  }
 },
 "nbformat": 4,
 "nbformat_minor": 2
}
